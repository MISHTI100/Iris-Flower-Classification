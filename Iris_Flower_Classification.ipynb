{
  "nbformat": 4,
  "nbformat_minor": 0,
  "metadata": {
    "colab": {
      "provenance": [],
      "authorship_tag": "ABX9TyNdULYpwXcXV3gw5ZrwwhH6",
      "include_colab_link": true
    },
    "kernelspec": {
      "name": "python3",
      "display_name": "Python 3"
    },
    "language_info": {
      "name": "python"
    }
  },
  "cells": [
    {
      "cell_type": "markdown",
      "metadata": {
        "id": "view-in-github",
        "colab_type": "text"
      },
      "source": [
        "<a href=\"https://colab.research.google.com/github/MISHTI100/Iris-Flower-Classification/blob/main/Iris_Flower_Classification.ipynb\" target=\"_parent\"><img src=\"https://colab.research.google.com/assets/colab-badge.svg\" alt=\"Open In Colab\"/></a>"
      ]
    },
    {
      "cell_type": "code",
      "execution_count": 1,
      "metadata": {
        "id": "kSRTmYggepwR"
      },
      "outputs": [],
      "source": [
        "import numpy as np\n",
        "import matplotlib.pyplot as plt\n",
        "import pandas as pd"
      ]
    },
    {
      "cell_type": "code",
      "source": [
        "data = pd.read_csv('Iris.csv')"
      ],
      "metadata": {
        "id": "FkoTvMB-toC3"
      },
      "execution_count": 2,
      "outputs": []
    },
    {
      "cell_type": "code",
      "source": [
        "data"
      ],
      "metadata": {
        "colab": {
          "base_uri": "https://localhost:8080/",
          "height": 423
        },
        "id": "IeCTlw6wtub3",
        "outputId": "84423c16-56fc-43fa-d010-291ad0a7fb95"
      },
      "execution_count": 3,
      "outputs": [
        {
          "output_type": "execute_result",
          "data": {
            "text/plain": [
              "      Id  SepalLengthCm  SepalWidthCm  PetalLengthCm  PetalWidthCm  \\\n",
              "0      1            5.1           3.5            1.4           0.2   \n",
              "1      2            4.9           3.0            1.4           0.2   \n",
              "2      3            4.7           3.2            1.3           0.2   \n",
              "3      4            4.6           3.1            1.5           0.2   \n",
              "4      5            5.0           3.6            1.4           0.2   \n",
              "..   ...            ...           ...            ...           ...   \n",
              "145  146            6.7           3.0            5.2           2.3   \n",
              "146  147            6.3           2.5            5.0           1.9   \n",
              "147  148            6.5           3.0            5.2           2.0   \n",
              "148  149            6.2           3.4            5.4           2.3   \n",
              "149  150            5.9           3.0            5.1           1.8   \n",
              "\n",
              "            Species  \n",
              "0       Iris-setosa  \n",
              "1       Iris-setosa  \n",
              "2       Iris-setosa  \n",
              "3       Iris-setosa  \n",
              "4       Iris-setosa  \n",
              "..              ...  \n",
              "145  Iris-virginica  \n",
              "146  Iris-virginica  \n",
              "147  Iris-virginica  \n",
              "148  Iris-virginica  \n",
              "149  Iris-virginica  \n",
              "\n",
              "[150 rows x 6 columns]"
            ],
            "text/html": [
              "\n",
              "  <div id=\"df-ed69f05f-9b96-46a5-8175-b982edfe7724\" class=\"colab-df-container\">\n",
              "    <div>\n",
              "<style scoped>\n",
              "    .dataframe tbody tr th:only-of-type {\n",
              "        vertical-align: middle;\n",
              "    }\n",
              "\n",
              "    .dataframe tbody tr th {\n",
              "        vertical-align: top;\n",
              "    }\n",
              "\n",
              "    .dataframe thead th {\n",
              "        text-align: right;\n",
              "    }\n",
              "</style>\n",
              "<table border=\"1\" class=\"dataframe\">\n",
              "  <thead>\n",
              "    <tr style=\"text-align: right;\">\n",
              "      <th></th>\n",
              "      <th>Id</th>\n",
              "      <th>SepalLengthCm</th>\n",
              "      <th>SepalWidthCm</th>\n",
              "      <th>PetalLengthCm</th>\n",
              "      <th>PetalWidthCm</th>\n",
              "      <th>Species</th>\n",
              "    </tr>\n",
              "  </thead>\n",
              "  <tbody>\n",
              "    <tr>\n",
              "      <th>0</th>\n",
              "      <td>1</td>\n",
              "      <td>5.1</td>\n",
              "      <td>3.5</td>\n",
              "      <td>1.4</td>\n",
              "      <td>0.2</td>\n",
              "      <td>Iris-setosa</td>\n",
              "    </tr>\n",
              "    <tr>\n",
              "      <th>1</th>\n",
              "      <td>2</td>\n",
              "      <td>4.9</td>\n",
              "      <td>3.0</td>\n",
              "      <td>1.4</td>\n",
              "      <td>0.2</td>\n",
              "      <td>Iris-setosa</td>\n",
              "    </tr>\n",
              "    <tr>\n",
              "      <th>2</th>\n",
              "      <td>3</td>\n",
              "      <td>4.7</td>\n",
              "      <td>3.2</td>\n",
              "      <td>1.3</td>\n",
              "      <td>0.2</td>\n",
              "      <td>Iris-setosa</td>\n",
              "    </tr>\n",
              "    <tr>\n",
              "      <th>3</th>\n",
              "      <td>4</td>\n",
              "      <td>4.6</td>\n",
              "      <td>3.1</td>\n",
              "      <td>1.5</td>\n",
              "      <td>0.2</td>\n",
              "      <td>Iris-setosa</td>\n",
              "    </tr>\n",
              "    <tr>\n",
              "      <th>4</th>\n",
              "      <td>5</td>\n",
              "      <td>5.0</td>\n",
              "      <td>3.6</td>\n",
              "      <td>1.4</td>\n",
              "      <td>0.2</td>\n",
              "      <td>Iris-setosa</td>\n",
              "    </tr>\n",
              "    <tr>\n",
              "      <th>...</th>\n",
              "      <td>...</td>\n",
              "      <td>...</td>\n",
              "      <td>...</td>\n",
              "      <td>...</td>\n",
              "      <td>...</td>\n",
              "      <td>...</td>\n",
              "    </tr>\n",
              "    <tr>\n",
              "      <th>145</th>\n",
              "      <td>146</td>\n",
              "      <td>6.7</td>\n",
              "      <td>3.0</td>\n",
              "      <td>5.2</td>\n",
              "      <td>2.3</td>\n",
              "      <td>Iris-virginica</td>\n",
              "    </tr>\n",
              "    <tr>\n",
              "      <th>146</th>\n",
              "      <td>147</td>\n",
              "      <td>6.3</td>\n",
              "      <td>2.5</td>\n",
              "      <td>5.0</td>\n",
              "      <td>1.9</td>\n",
              "      <td>Iris-virginica</td>\n",
              "    </tr>\n",
              "    <tr>\n",
              "      <th>147</th>\n",
              "      <td>148</td>\n",
              "      <td>6.5</td>\n",
              "      <td>3.0</td>\n",
              "      <td>5.2</td>\n",
              "      <td>2.0</td>\n",
              "      <td>Iris-virginica</td>\n",
              "    </tr>\n",
              "    <tr>\n",
              "      <th>148</th>\n",
              "      <td>149</td>\n",
              "      <td>6.2</td>\n",
              "      <td>3.4</td>\n",
              "      <td>5.4</td>\n",
              "      <td>2.3</td>\n",
              "      <td>Iris-virginica</td>\n",
              "    </tr>\n",
              "    <tr>\n",
              "      <th>149</th>\n",
              "      <td>150</td>\n",
              "      <td>5.9</td>\n",
              "      <td>3.0</td>\n",
              "      <td>5.1</td>\n",
              "      <td>1.8</td>\n",
              "      <td>Iris-virginica</td>\n",
              "    </tr>\n",
              "  </tbody>\n",
              "</table>\n",
              "<p>150 rows × 6 columns</p>\n",
              "</div>\n",
              "    <div class=\"colab-df-buttons\">\n",
              "\n",
              "  <div class=\"colab-df-container\">\n",
              "    <button class=\"colab-df-convert\" onclick=\"convertToInteractive('df-ed69f05f-9b96-46a5-8175-b982edfe7724')\"\n",
              "            title=\"Convert this dataframe to an interactive table.\"\n",
              "            style=\"display:none;\">\n",
              "\n",
              "  <svg xmlns=\"http://www.w3.org/2000/svg\" height=\"24px\" viewBox=\"0 -960 960 960\">\n",
              "    <path d=\"M120-120v-720h720v720H120Zm60-500h600v-160H180v160Zm220 220h160v-160H400v160Zm0 220h160v-160H400v160ZM180-400h160v-160H180v160Zm440 0h160v-160H620v160ZM180-180h160v-160H180v160Zm440 0h160v-160H620v160Z\"/>\n",
              "  </svg>\n",
              "    </button>\n",
              "\n",
              "  <style>\n",
              "    .colab-df-container {\n",
              "      display:flex;\n",
              "      gap: 12px;\n",
              "    }\n",
              "\n",
              "    .colab-df-convert {\n",
              "      background-color: #E8F0FE;\n",
              "      border: none;\n",
              "      border-radius: 50%;\n",
              "      cursor: pointer;\n",
              "      display: none;\n",
              "      fill: #1967D2;\n",
              "      height: 32px;\n",
              "      padding: 0 0 0 0;\n",
              "      width: 32px;\n",
              "    }\n",
              "\n",
              "    .colab-df-convert:hover {\n",
              "      background-color: #E2EBFA;\n",
              "      box-shadow: 0px 1px 2px rgba(60, 64, 67, 0.3), 0px 1px 3px 1px rgba(60, 64, 67, 0.15);\n",
              "      fill: #174EA6;\n",
              "    }\n",
              "\n",
              "    .colab-df-buttons div {\n",
              "      margin-bottom: 4px;\n",
              "    }\n",
              "\n",
              "    [theme=dark] .colab-df-convert {\n",
              "      background-color: #3B4455;\n",
              "      fill: #D2E3FC;\n",
              "    }\n",
              "\n",
              "    [theme=dark] .colab-df-convert:hover {\n",
              "      background-color: #434B5C;\n",
              "      box-shadow: 0px 1px 3px 1px rgba(0, 0, 0, 0.15);\n",
              "      filter: drop-shadow(0px 1px 2px rgba(0, 0, 0, 0.3));\n",
              "      fill: #FFFFFF;\n",
              "    }\n",
              "  </style>\n",
              "\n",
              "    <script>\n",
              "      const buttonEl =\n",
              "        document.querySelector('#df-ed69f05f-9b96-46a5-8175-b982edfe7724 button.colab-df-convert');\n",
              "      buttonEl.style.display =\n",
              "        google.colab.kernel.accessAllowed ? 'block' : 'none';\n",
              "\n",
              "      async function convertToInteractive(key) {\n",
              "        const element = document.querySelector('#df-ed69f05f-9b96-46a5-8175-b982edfe7724');\n",
              "        const dataTable =\n",
              "          await google.colab.kernel.invokeFunction('convertToInteractive',\n",
              "                                                    [key], {});\n",
              "        if (!dataTable) return;\n",
              "\n",
              "        const docLinkHtml = 'Like what you see? Visit the ' +\n",
              "          '<a target=\"_blank\" href=https://colab.research.google.com/notebooks/data_table.ipynb>data table notebook</a>'\n",
              "          + ' to learn more about interactive tables.';\n",
              "        element.innerHTML = '';\n",
              "        dataTable['output_type'] = 'display_data';\n",
              "        await google.colab.output.renderOutput(dataTable, element);\n",
              "        const docLink = document.createElement('div');\n",
              "        docLink.innerHTML = docLinkHtml;\n",
              "        element.appendChild(docLink);\n",
              "      }\n",
              "    </script>\n",
              "  </div>\n",
              "\n",
              "\n",
              "<div id=\"df-d4a718a7-4923-4560-95c0-3372a51163a7\">\n",
              "  <button class=\"colab-df-quickchart\" onclick=\"quickchart('df-d4a718a7-4923-4560-95c0-3372a51163a7')\"\n",
              "            title=\"Suggest charts\"\n",
              "            style=\"display:none;\">\n",
              "\n",
              "<svg xmlns=\"http://www.w3.org/2000/svg\" height=\"24px\"viewBox=\"0 0 24 24\"\n",
              "     width=\"24px\">\n",
              "    <g>\n",
              "        <path d=\"M19 3H5c-1.1 0-2 .9-2 2v14c0 1.1.9 2 2 2h14c1.1 0 2-.9 2-2V5c0-1.1-.9-2-2-2zM9 17H7v-7h2v7zm4 0h-2V7h2v10zm4 0h-2v-4h2v4z\"/>\n",
              "    </g>\n",
              "</svg>\n",
              "  </button>\n",
              "\n",
              "<style>\n",
              "  .colab-df-quickchart {\n",
              "      --bg-color: #E8F0FE;\n",
              "      --fill-color: #1967D2;\n",
              "      --hover-bg-color: #E2EBFA;\n",
              "      --hover-fill-color: #174EA6;\n",
              "      --disabled-fill-color: #AAA;\n",
              "      --disabled-bg-color: #DDD;\n",
              "  }\n",
              "\n",
              "  [theme=dark] .colab-df-quickchart {\n",
              "      --bg-color: #3B4455;\n",
              "      --fill-color: #D2E3FC;\n",
              "      --hover-bg-color: #434B5C;\n",
              "      --hover-fill-color: #FFFFFF;\n",
              "      --disabled-bg-color: #3B4455;\n",
              "      --disabled-fill-color: #666;\n",
              "  }\n",
              "\n",
              "  .colab-df-quickchart {\n",
              "    background-color: var(--bg-color);\n",
              "    border: none;\n",
              "    border-radius: 50%;\n",
              "    cursor: pointer;\n",
              "    display: none;\n",
              "    fill: var(--fill-color);\n",
              "    height: 32px;\n",
              "    padding: 0;\n",
              "    width: 32px;\n",
              "  }\n",
              "\n",
              "  .colab-df-quickchart:hover {\n",
              "    background-color: var(--hover-bg-color);\n",
              "    box-shadow: 0 1px 2px rgba(60, 64, 67, 0.3), 0 1px 3px 1px rgba(60, 64, 67, 0.15);\n",
              "    fill: var(--button-hover-fill-color);\n",
              "  }\n",
              "\n",
              "  .colab-df-quickchart-complete:disabled,\n",
              "  .colab-df-quickchart-complete:disabled:hover {\n",
              "    background-color: var(--disabled-bg-color);\n",
              "    fill: var(--disabled-fill-color);\n",
              "    box-shadow: none;\n",
              "  }\n",
              "\n",
              "  .colab-df-spinner {\n",
              "    border: 2px solid var(--fill-color);\n",
              "    border-color: transparent;\n",
              "    border-bottom-color: var(--fill-color);\n",
              "    animation:\n",
              "      spin 1s steps(1) infinite;\n",
              "  }\n",
              "\n",
              "  @keyframes spin {\n",
              "    0% {\n",
              "      border-color: transparent;\n",
              "      border-bottom-color: var(--fill-color);\n",
              "      border-left-color: var(--fill-color);\n",
              "    }\n",
              "    20% {\n",
              "      border-color: transparent;\n",
              "      border-left-color: var(--fill-color);\n",
              "      border-top-color: var(--fill-color);\n",
              "    }\n",
              "    30% {\n",
              "      border-color: transparent;\n",
              "      border-left-color: var(--fill-color);\n",
              "      border-top-color: var(--fill-color);\n",
              "      border-right-color: var(--fill-color);\n",
              "    }\n",
              "    40% {\n",
              "      border-color: transparent;\n",
              "      border-right-color: var(--fill-color);\n",
              "      border-top-color: var(--fill-color);\n",
              "    }\n",
              "    60% {\n",
              "      border-color: transparent;\n",
              "      border-right-color: var(--fill-color);\n",
              "    }\n",
              "    80% {\n",
              "      border-color: transparent;\n",
              "      border-right-color: var(--fill-color);\n",
              "      border-bottom-color: var(--fill-color);\n",
              "    }\n",
              "    90% {\n",
              "      border-color: transparent;\n",
              "      border-bottom-color: var(--fill-color);\n",
              "    }\n",
              "  }\n",
              "</style>\n",
              "\n",
              "  <script>\n",
              "    async function quickchart(key) {\n",
              "      const quickchartButtonEl =\n",
              "        document.querySelector('#' + key + ' button');\n",
              "      quickchartButtonEl.disabled = true;  // To prevent multiple clicks.\n",
              "      quickchartButtonEl.classList.add('colab-df-spinner');\n",
              "      try {\n",
              "        const charts = await google.colab.kernel.invokeFunction(\n",
              "            'suggestCharts', [key], {});\n",
              "      } catch (error) {\n",
              "        console.error('Error during call to suggestCharts:', error);\n",
              "      }\n",
              "      quickchartButtonEl.classList.remove('colab-df-spinner');\n",
              "      quickchartButtonEl.classList.add('colab-df-quickchart-complete');\n",
              "    }\n",
              "    (() => {\n",
              "      let quickchartButtonEl =\n",
              "        document.querySelector('#df-d4a718a7-4923-4560-95c0-3372a51163a7 button');\n",
              "      quickchartButtonEl.style.display =\n",
              "        google.colab.kernel.accessAllowed ? 'block' : 'none';\n",
              "    })();\n",
              "  </script>\n",
              "</div>\n",
              "\n",
              "  <div id=\"id_066d1339-95e3-434a-8fbe-483cc1b7ab36\">\n",
              "    <style>\n",
              "      .colab-df-generate {\n",
              "        background-color: #E8F0FE;\n",
              "        border: none;\n",
              "        border-radius: 50%;\n",
              "        cursor: pointer;\n",
              "        display: none;\n",
              "        fill: #1967D2;\n",
              "        height: 32px;\n",
              "        padding: 0 0 0 0;\n",
              "        width: 32px;\n",
              "      }\n",
              "\n",
              "      .colab-df-generate:hover {\n",
              "        background-color: #E2EBFA;\n",
              "        box-shadow: 0px 1px 2px rgba(60, 64, 67, 0.3), 0px 1px 3px 1px rgba(60, 64, 67, 0.15);\n",
              "        fill: #174EA6;\n",
              "      }\n",
              "\n",
              "      [theme=dark] .colab-df-generate {\n",
              "        background-color: #3B4455;\n",
              "        fill: #D2E3FC;\n",
              "      }\n",
              "\n",
              "      [theme=dark] .colab-df-generate:hover {\n",
              "        background-color: #434B5C;\n",
              "        box-shadow: 0px 1px 3px 1px rgba(0, 0, 0, 0.15);\n",
              "        filter: drop-shadow(0px 1px 2px rgba(0, 0, 0, 0.3));\n",
              "        fill: #FFFFFF;\n",
              "      }\n",
              "    </style>\n",
              "    <button class=\"colab-df-generate\" onclick=\"generateWithVariable('data')\"\n",
              "            title=\"Generate code using this dataframe.\"\n",
              "            style=\"display:none;\">\n",
              "\n",
              "  <svg xmlns=\"http://www.w3.org/2000/svg\" height=\"24px\"viewBox=\"0 0 24 24\"\n",
              "       width=\"24px\">\n",
              "    <path d=\"M7,19H8.4L18.45,9,17,7.55,7,17.6ZM5,21V16.75L18.45,3.32a2,2,0,0,1,2.83,0l1.4,1.43a1.91,1.91,0,0,1,.58,1.4,1.91,1.91,0,0,1-.58,1.4L9.25,21ZM18.45,9,17,7.55Zm-12,3A5.31,5.31,0,0,0,4.9,8.1,5.31,5.31,0,0,0,1,6.5,5.31,5.31,0,0,0,4.9,4.9,5.31,5.31,0,0,0,6.5,1,5.31,5.31,0,0,0,8.1,4.9,5.31,5.31,0,0,0,12,6.5,5.46,5.46,0,0,0,6.5,12Z\"/>\n",
              "  </svg>\n",
              "    </button>\n",
              "    <script>\n",
              "      (() => {\n",
              "      const buttonEl =\n",
              "        document.querySelector('#id_066d1339-95e3-434a-8fbe-483cc1b7ab36 button.colab-df-generate');\n",
              "      buttonEl.style.display =\n",
              "        google.colab.kernel.accessAllowed ? 'block' : 'none';\n",
              "\n",
              "      buttonEl.onclick = () => {\n",
              "        google.colab.notebook.generateWithVariable('data');\n",
              "      }\n",
              "      })();\n",
              "    </script>\n",
              "  </div>\n",
              "\n",
              "    </div>\n",
              "  </div>\n"
            ],
            "application/vnd.google.colaboratory.intrinsic+json": {
              "type": "dataframe",
              "variable_name": "data",
              "summary": "{\n  \"name\": \"data\",\n  \"rows\": 150,\n  \"fields\": [\n    {\n      \"column\": \"Id\",\n      \"properties\": {\n        \"dtype\": \"number\",\n        \"std\": 43,\n        \"min\": 1,\n        \"max\": 150,\n        \"num_unique_values\": 150,\n        \"samples\": [\n          74,\n          19,\n          119\n        ],\n        \"semantic_type\": \"\",\n        \"description\": \"\"\n      }\n    },\n    {\n      \"column\": \"SepalLengthCm\",\n      \"properties\": {\n        \"dtype\": \"number\",\n        \"std\": 0.828066127977863,\n        \"min\": 4.3,\n        \"max\": 7.9,\n        \"num_unique_values\": 35,\n        \"samples\": [\n          6.2,\n          4.5,\n          5.6\n        ],\n        \"semantic_type\": \"\",\n        \"description\": \"\"\n      }\n    },\n    {\n      \"column\": \"SepalWidthCm\",\n      \"properties\": {\n        \"dtype\": \"number\",\n        \"std\": 0.4335943113621737,\n        \"min\": 2.0,\n        \"max\": 4.4,\n        \"num_unique_values\": 23,\n        \"samples\": [\n          2.3,\n          4.0,\n          3.5\n        ],\n        \"semantic_type\": \"\",\n        \"description\": \"\"\n      }\n    },\n    {\n      \"column\": \"PetalLengthCm\",\n      \"properties\": {\n        \"dtype\": \"number\",\n        \"std\": 1.7644204199522626,\n        \"min\": 1.0,\n        \"max\": 6.9,\n        \"num_unique_values\": 43,\n        \"samples\": [\n          6.7,\n          3.8,\n          3.7\n        ],\n        \"semantic_type\": \"\",\n        \"description\": \"\"\n      }\n    },\n    {\n      \"column\": \"PetalWidthCm\",\n      \"properties\": {\n        \"dtype\": \"number\",\n        \"std\": 0.7631607417008411,\n        \"min\": 0.1,\n        \"max\": 2.5,\n        \"num_unique_values\": 22,\n        \"samples\": [\n          0.2,\n          1.2,\n          1.3\n        ],\n        \"semantic_type\": \"\",\n        \"description\": \"\"\n      }\n    },\n    {\n      \"column\": \"Species\",\n      \"properties\": {\n        \"dtype\": \"category\",\n        \"num_unique_values\": 3,\n        \"samples\": [\n          \"Iris-setosa\",\n          \"Iris-versicolor\",\n          \"Iris-virginica\"\n        ],\n        \"semantic_type\": \"\",\n        \"description\": \"\"\n      }\n    }\n  ]\n}"
            }
          },
          "metadata": {},
          "execution_count": 3
        }
      ]
    },
    {
      "cell_type": "code",
      "source": [
        "data.dtypes"
      ],
      "metadata": {
        "colab": {
          "base_uri": "https://localhost:8080/",
          "height": 272
        },
        "id": "tEpmJFjatxAI",
        "outputId": "826277df-0514-4610-d2cc-c5e489cdb387"
      },
      "execution_count": 4,
      "outputs": [
        {
          "output_type": "execute_result",
          "data": {
            "text/plain": [
              "Id                 int64\n",
              "SepalLengthCm    float64\n",
              "SepalWidthCm     float64\n",
              "PetalLengthCm    float64\n",
              "PetalWidthCm     float64\n",
              "Species           object\n",
              "dtype: object"
            ],
            "text/html": [
              "<div>\n",
              "<style scoped>\n",
              "    .dataframe tbody tr th:only-of-type {\n",
              "        vertical-align: middle;\n",
              "    }\n",
              "\n",
              "    .dataframe tbody tr th {\n",
              "        vertical-align: top;\n",
              "    }\n",
              "\n",
              "    .dataframe thead th {\n",
              "        text-align: right;\n",
              "    }\n",
              "</style>\n",
              "<table border=\"1\" class=\"dataframe\">\n",
              "  <thead>\n",
              "    <tr style=\"text-align: right;\">\n",
              "      <th></th>\n",
              "      <th>0</th>\n",
              "    </tr>\n",
              "  </thead>\n",
              "  <tbody>\n",
              "    <tr>\n",
              "      <th>Id</th>\n",
              "      <td>int64</td>\n",
              "    </tr>\n",
              "    <tr>\n",
              "      <th>SepalLengthCm</th>\n",
              "      <td>float64</td>\n",
              "    </tr>\n",
              "    <tr>\n",
              "      <th>SepalWidthCm</th>\n",
              "      <td>float64</td>\n",
              "    </tr>\n",
              "    <tr>\n",
              "      <th>PetalLengthCm</th>\n",
              "      <td>float64</td>\n",
              "    </tr>\n",
              "    <tr>\n",
              "      <th>PetalWidthCm</th>\n",
              "      <td>float64</td>\n",
              "    </tr>\n",
              "    <tr>\n",
              "      <th>Species</th>\n",
              "      <td>object</td>\n",
              "    </tr>\n",
              "  </tbody>\n",
              "</table>\n",
              "</div><br><label><b>dtype:</b> object</label>"
            ]
          },
          "metadata": {},
          "execution_count": 4
        }
      ]
    },
    {
      "cell_type": "code",
      "source": [
        "data.info()"
      ],
      "metadata": {
        "colab": {
          "base_uri": "https://localhost:8080/"
        },
        "id": "-bH53Ki8t0o0",
        "outputId": "23acb920-d67d-4e31-b22c-2dcf54daed4b"
      },
      "execution_count": 5,
      "outputs": [
        {
          "output_type": "stream",
          "name": "stdout",
          "text": [
            "<class 'pandas.core.frame.DataFrame'>\n",
            "RangeIndex: 150 entries, 0 to 149\n",
            "Data columns (total 6 columns):\n",
            " #   Column         Non-Null Count  Dtype  \n",
            "---  ------         --------------  -----  \n",
            " 0   Id             150 non-null    int64  \n",
            " 1   SepalLengthCm  150 non-null    float64\n",
            " 2   SepalWidthCm   150 non-null    float64\n",
            " 3   PetalLengthCm  150 non-null    float64\n",
            " 4   PetalWidthCm   150 non-null    float64\n",
            " 5   Species        150 non-null    object \n",
            "dtypes: float64(4), int64(1), object(1)\n",
            "memory usage: 7.2+ KB\n"
          ]
        }
      ]
    },
    {
      "cell_type": "code",
      "source": [
        "#No null values"
      ],
      "metadata": {
        "id": "gZwXx89ft81S"
      },
      "execution_count": 6,
      "outputs": []
    },
    {
      "cell_type": "code",
      "source": [
        "y = data.iloc[:,5].values\n",
        "x = data.drop(columns = data.columns[5]).values"
      ],
      "metadata": {
        "id": "qy3qllhXvA5U"
      },
      "execution_count": 14,
      "outputs": []
    },
    {
      "cell_type": "code",
      "source": [
        "from sklearn.model_selection import train_test_split\n",
        "x_train, x_test, y_train, y_test = train_test_split(x,y, test_size = 0.25, random_state = 42)"
      ],
      "metadata": {
        "id": "-TOLM-u9vz6E"
      },
      "execution_count": 15,
      "outputs": []
    },
    {
      "cell_type": "code",
      "source": [
        "print(x_train)"
      ],
      "metadata": {
        "colab": {
          "base_uri": "https://localhost:8080/"
        },
        "id": "KHvKOmT9wA2j",
        "outputId": "e8e56009-a906-4296-d17f-02a7a34246da"
      },
      "execution_count": 16,
      "outputs": [
        {
          "output_type": "stream",
          "name": "stdout",
          "text": [
            "[[5.00e+00 5.00e+00 3.60e+00 1.40e+00 2.00e-01]\n",
            " [3.30e+01 5.20e+00 4.10e+00 1.50e+00 1.00e-01]\n",
            " [1.43e+02 5.80e+00 2.70e+00 5.10e+00 1.90e+00]\n",
            " [8.60e+01 6.00e+00 3.40e+00 4.50e+00 1.60e+00]\n",
            " [8.70e+01 6.70e+00 3.10e+00 4.70e+00 1.50e+00]\n",
            " [1.70e+01 5.40e+00 3.90e+00 1.30e+00 4.00e-01]\n",
            " [1.10e+01 5.40e+00 3.70e+00 1.50e+00 2.00e-01]\n",
            " [8.20e+01 5.50e+00 2.40e+00 3.70e+00 1.00e+00]\n",
            " [1.34e+02 6.30e+00 2.80e+00 5.10e+00 1.50e+00]\n",
            " [1.38e+02 6.40e+00 3.10e+00 5.50e+00 1.80e+00]\n",
            " [7.60e+01 6.60e+00 3.00e+00 4.40e+00 1.40e+00]\n",
            " [1.10e+02 7.20e+00 3.60e+00 6.10e+00 2.50e+00]\n",
            " [9.70e+01 5.70e+00 2.90e+00 4.20e+00 1.30e+00]\n",
            " [1.06e+02 7.60e+00 3.00e+00 6.60e+00 2.10e+00]\n",
            " [6.70e+01 5.60e+00 3.00e+00 4.50e+00 1.50e+00]\n",
            " [1.00e+00 5.10e+00 3.50e+00 1.40e+00 2.00e-01]\n",
            " [1.23e+02 7.70e+00 2.80e+00 6.70e+00 2.00e+00]\n",
            " [6.80e+01 5.80e+00 2.70e+00 4.10e+00 1.00e+00]\n",
            " [2.90e+01 5.20e+00 3.40e+00 1.40e+00 2.00e-01]\n",
            " [4.10e+01 5.00e+00 3.50e+00 1.30e+00 3.00e-01]\n",
            " [4.50e+01 5.10e+00 3.80e+00 1.90e+00 4.00e-01]\n",
            " [6.10e+01 5.00e+00 2.00e+00 3.50e+00 1.00e+00]\n",
            " [1.24e+02 6.30e+00 2.70e+00 4.90e+00 1.80e+00]\n",
            " [2.50e+01 4.80e+00 3.40e+00 1.90e+00 2.00e-01]\n",
            " [2.60e+01 5.00e+00 3.00e+00 1.60e+00 2.00e-01]\n",
            " [2.40e+01 5.10e+00 3.30e+00 1.70e+00 5.00e-01]\n",
            " [9.50e+01 5.60e+00 2.70e+00 4.20e+00 1.30e+00]\n",
            " [4.00e+01 5.10e+00 3.40e+00 1.50e+00 2.00e-01]\n",
            " [9.60e+01 5.70e+00 3.00e+00 4.20e+00 1.20e+00]\n",
            " [1.18e+02 7.70e+00 3.80e+00 6.70e+00 2.20e+00]\n",
            " [4.80e+01 4.60e+00 3.20e+00 1.40e+00 2.00e-01]\n",
            " [9.80e+01 6.20e+00 2.90e+00 4.30e+00 1.30e+00]\n",
            " [1.14e+02 5.70e+00 2.50e+00 5.00e+00 2.00e+00]\n",
            " [3.40e+01 5.50e+00 4.20e+00 1.40e+00 2.00e-01]\n",
            " [1.39e+02 6.00e+00 3.00e+00 4.80e+00 1.80e+00]\n",
            " [1.02e+02 5.80e+00 2.70e+00 5.10e+00 1.90e+00]\n",
            " [6.30e+01 6.00e+00 2.20e+00 4.00e+00 1.00e+00]\n",
            " [8.50e+01 5.40e+00 3.00e+00 4.50e+00 1.50e+00]\n",
            " [1.49e+02 6.20e+00 3.40e+00 5.40e+00 2.30e+00]\n",
            " [5.40e+01 5.50e+00 2.30e+00 4.00e+00 1.30e+00]\n",
            " [6.00e+00 5.40e+00 3.90e+00 1.70e+00 4.00e-01]\n",
            " [9.40e+01 5.00e+00 2.30e+00 3.30e+00 1.00e+00]\n",
            " [1.12e+02 6.40e+00 2.70e+00 5.30e+00 1.90e+00]\n",
            " [5.00e+01 5.00e+00 3.30e+00 1.40e+00 2.00e-01]\n",
            " [3.60e+01 5.00e+00 3.20e+00 1.20e+00 2.00e-01]\n",
            " [8.10e+01 5.50e+00 2.40e+00 3.80e+00 1.10e+00]\n",
            " [7.80e+01 6.70e+00 3.00e+00 5.00e+00 1.70e+00]\n",
            " [3.50e+01 4.90e+00 3.10e+00 1.50e+00 1.00e-01]\n",
            " [1.15e+02 5.80e+00 2.80e+00 5.10e+00 2.40e+00]\n",
            " [8.00e+00 5.00e+00 3.40e+00 1.50e+00 2.00e-01]\n",
            " [4.40e+01 5.00e+00 3.50e+00 1.60e+00 6.00e-01]\n",
            " [7.10e+01 5.90e+00 3.20e+00 4.80e+00 1.80e+00]\n",
            " [9.90e+01 5.10e+00 2.50e+00 3.00e+00 1.10e+00]\n",
            " [1.21e+02 6.90e+00 3.20e+00 5.70e+00 2.30e+00]\n",
            " [8.40e+01 6.00e+00 2.70e+00 5.10e+00 1.60e+00]\n",
            " [1.35e+02 6.10e+00 2.60e+00 5.60e+00 1.40e+00]\n",
            " [1.36e+02 7.70e+00 3.00e+00 6.10e+00 2.30e+00]\n",
            " [9.00e+01 5.50e+00 2.50e+00 4.00e+00 1.30e+00]\n",
            " [9.00e+00 4.40e+00 2.90e+00 1.40e+00 2.00e-01]\n",
            " [1.40e+01 4.30e+00 3.00e+00 1.10e+00 1.00e-01]\n",
            " [1.20e+02 6.00e+00 2.20e+00 5.00e+00 1.50e+00]\n",
            " [1.26e+02 7.20e+00 3.20e+00 6.00e+00 1.80e+00]\n",
            " [4.00e+00 4.60e+00 3.10e+00 1.50e+00 2.00e-01]\n",
            " [1.80e+01 5.10e+00 3.50e+00 1.40e+00 3.00e-01]\n",
            " [3.90e+01 4.40e+00 3.00e+00 1.30e+00 2.00e-01]\n",
            " [7.30e+01 6.30e+00 2.50e+00 4.90e+00 1.50e+00]\n",
            " [1.37e+02 6.30e+00 3.40e+00 5.60e+00 2.40e+00]\n",
            " [7.00e+00 4.60e+00 3.40e+00 1.40e+00 3.00e-01]\n",
            " [1.13e+02 6.80e+00 3.00e+00 5.50e+00 2.10e+00]\n",
            " [1.01e+02 6.30e+00 3.30e+00 6.00e+00 2.50e+00]\n",
            " [3.00e+00 4.70e+00 3.20e+00 1.30e+00 2.00e-01]\n",
            " [6.40e+01 6.10e+00 2.90e+00 4.70e+00 1.40e+00]\n",
            " [5.50e+01 6.50e+00 2.80e+00 4.60e+00 1.50e+00]\n",
            " [1.27e+02 6.20e+00 2.80e+00 4.80e+00 1.80e+00]\n",
            " [5.10e+01 7.00e+00 3.20e+00 4.70e+00 1.40e+00]\n",
            " [1.16e+02 6.40e+00 3.20e+00 5.30e+00 2.30e+00]\n",
            " [4.70e+01 5.10e+00 3.80e+00 1.60e+00 2.00e-01]\n",
            " [1.40e+02 6.90e+00 3.10e+00 5.40e+00 2.10e+00]\n",
            " [6.20e+01 5.90e+00 3.00e+00 4.20e+00 1.50e+00]\n",
            " [1.48e+02 6.50e+00 3.00e+00 5.20e+00 2.00e+00]\n",
            " [8.00e+01 5.70e+00 2.60e+00 3.50e+00 1.00e+00]\n",
            " [6.00e+01 5.20e+00 2.70e+00 3.90e+00 1.40e+00]\n",
            " [9.20e+01 6.10e+00 3.00e+00 4.60e+00 1.40e+00]\n",
            " [4.20e+01 4.50e+00 2.30e+00 1.30e+00 3.00e-01]\n",
            " [5.90e+01 6.60e+00 2.90e+00 4.60e+00 1.30e+00]\n",
            " [9.10e+01 5.50e+00 2.60e+00 4.40e+00 1.20e+00]\n",
            " [4.90e+01 5.30e+00 3.70e+00 1.50e+00 2.00e-01]\n",
            " [8.90e+01 5.60e+00 3.00e+00 4.10e+00 1.30e+00]\n",
            " [1.08e+02 7.30e+00 2.90e+00 6.30e+00 1.80e+00]\n",
            " [1.25e+02 6.70e+00 3.30e+00 5.70e+00 2.10e+00]\n",
            " [2.20e+01 5.10e+00 3.70e+00 1.50e+00 4.00e-01]\n",
            " [5.80e+01 4.90e+00 2.40e+00 3.30e+00 1.00e+00]\n",
            " [1.45e+02 6.70e+00 3.30e+00 5.70e+00 2.50e+00]\n",
            " [1.30e+02 7.20e+00 3.00e+00 5.80e+00 1.60e+00]\n",
            " [3.80e+01 4.90e+00 3.10e+00 1.50e+00 1.00e-01]\n",
            " [1.41e+02 6.70e+00 3.10e+00 5.60e+00 2.40e+00]\n",
            " [2.00e+00 4.90e+00 3.00e+00 1.40e+00 2.00e-01]\n",
            " [5.30e+01 6.90e+00 3.10e+00 4.90e+00 1.50e+00]\n",
            " [1.31e+02 7.40e+00 2.80e+00 6.10e+00 1.90e+00]\n",
            " [1.04e+02 6.30e+00 2.90e+00 5.60e+00 1.80e+00]\n",
            " [1.00e+02 5.70e+00 2.80e+00 4.10e+00 1.30e+00]\n",
            " [1.17e+02 6.50e+00 3.00e+00 5.50e+00 1.80e+00]\n",
            " [8.80e+01 6.30e+00 2.30e+00 4.40e+00 1.30e+00]\n",
            " [7.50e+01 6.40e+00 2.90e+00 4.30e+00 1.30e+00]\n",
            " [1.22e+02 5.60e+00 2.80e+00 4.90e+00 2.00e+00]\n",
            " [1.50e+02 5.90e+00 3.00e+00 5.10e+00 1.80e+00]\n",
            " [2.10e+01 5.40e+00 3.40e+00 1.70e+00 2.00e-01]\n",
            " [7.20e+01 6.10e+00 2.80e+00 4.00e+00 1.30e+00]\n",
            " [1.07e+02 4.90e+00 2.50e+00 4.50e+00 1.70e+00]\n",
            " [1.50e+01 5.80e+00 4.00e+00 1.20e+00 2.00e-01]\n",
            " [9.30e+01 5.80e+00 2.60e+00 4.00e+00 1.20e+00]\n",
            " [1.03e+02 7.10e+00 3.00e+00 5.90e+00 2.10e+00]]\n"
          ]
        }
      ]
    },
    {
      "cell_type": "code",
      "source": [
        "print(x_test)"
      ],
      "metadata": {
        "colab": {
          "base_uri": "https://localhost:8080/"
        },
        "id": "YVwc0KSHwEsi",
        "outputId": "7c1344d3-abba-49b6-f04f-88b84893d21e"
      },
      "execution_count": 17,
      "outputs": [
        {
          "output_type": "stream",
          "name": "stdout",
          "text": [
            "[[7.40e+01 6.10e+00 2.80e+00 4.70e+00 1.20e+00]\n",
            " [1.90e+01 5.70e+00 3.80e+00 1.70e+00 3.00e-01]\n",
            " [1.19e+02 7.70e+00 2.60e+00 6.90e+00 2.30e+00]\n",
            " [7.90e+01 6.00e+00 2.90e+00 4.50e+00 1.50e+00]\n",
            " [7.70e+01 6.80e+00 2.80e+00 4.80e+00 1.40e+00]\n",
            " [3.20e+01 5.40e+00 3.40e+00 1.50e+00 4.00e-01]\n",
            " [6.50e+01 5.60e+00 2.90e+00 3.60e+00 1.30e+00]\n",
            " [1.42e+02 6.90e+00 3.10e+00 5.10e+00 2.30e+00]\n",
            " [6.90e+01 6.20e+00 2.20e+00 4.50e+00 1.50e+00]\n",
            " [8.30e+01 5.80e+00 2.70e+00 3.90e+00 1.20e+00]\n",
            " [1.11e+02 6.50e+00 3.20e+00 5.10e+00 2.00e+00]\n",
            " [1.30e+01 4.80e+00 3.00e+00 1.40e+00 1.00e-01]\n",
            " [3.70e+01 5.50e+00 3.50e+00 1.30e+00 2.00e-01]\n",
            " [1.00e+01 4.90e+00 3.10e+00 1.50e+00 1.00e-01]\n",
            " [2.00e+01 5.10e+00 3.80e+00 1.50e+00 3.00e-01]\n",
            " [5.70e+01 6.30e+00 3.30e+00 4.70e+00 1.60e+00]\n",
            " [1.05e+02 6.50e+00 3.00e+00 5.80e+00 2.20e+00]\n",
            " [7.00e+01 5.60e+00 2.50e+00 3.90e+00 1.10e+00]\n",
            " [5.60e+01 5.70e+00 2.80e+00 4.50e+00 1.30e+00]\n",
            " [1.33e+02 6.40e+00 2.80e+00 5.60e+00 2.20e+00]\n",
            " [3.00e+01 4.70e+00 3.20e+00 1.60e+00 2.00e-01]\n",
            " [1.28e+02 6.10e+00 3.00e+00 4.90e+00 1.80e+00]\n",
            " [2.70e+01 5.00e+00 3.40e+00 1.60e+00 4.00e-01]\n",
            " [1.29e+02 6.40e+00 2.80e+00 5.60e+00 2.10e+00]\n",
            " [1.32e+02 7.90e+00 3.80e+00 6.40e+00 2.00e+00]\n",
            " [1.46e+02 6.70e+00 3.00e+00 5.20e+00 2.30e+00]\n",
            " [1.09e+02 6.70e+00 2.50e+00 5.80e+00 1.80e+00]\n",
            " [1.44e+02 6.80e+00 3.20e+00 5.90e+00 2.30e+00]\n",
            " [4.60e+01 4.80e+00 3.00e+00 1.40e+00 3.00e-01]\n",
            " [3.10e+01 4.80e+00 3.10e+00 1.60e+00 2.00e-01]\n",
            " [2.30e+01 4.60e+00 3.60e+00 1.00e+00 2.00e-01]\n",
            " [1.60e+01 5.70e+00 4.40e+00 1.50e+00 4.00e-01]\n",
            " [6.60e+01 6.70e+00 3.10e+00 4.40e+00 1.40e+00]\n",
            " [1.20e+01 4.80e+00 3.40e+00 1.60e+00 2.00e-01]\n",
            " [4.30e+01 4.40e+00 3.20e+00 1.30e+00 2.00e-01]\n",
            " [1.47e+02 6.30e+00 2.50e+00 5.00e+00 1.90e+00]\n",
            " [5.20e+01 6.40e+00 3.20e+00 4.50e+00 1.50e+00]\n",
            " [2.80e+01 5.20e+00 3.50e+00 1.50e+00 2.00e-01]]\n"
          ]
        }
      ]
    },
    {
      "cell_type": "code",
      "source": [
        "print(y_train)"
      ],
      "metadata": {
        "colab": {
          "base_uri": "https://localhost:8080/"
        },
        "id": "cLOVeG4qwHE0",
        "outputId": "c0d0ae63-2675-4635-b94f-2538a8f80adc"
      },
      "execution_count": 18,
      "outputs": [
        {
          "output_type": "stream",
          "name": "stdout",
          "text": [
            "['Iris-setosa' 'Iris-setosa' 'Iris-virginica' 'Iris-versicolor'\n",
            " 'Iris-versicolor' 'Iris-setosa' 'Iris-setosa' 'Iris-versicolor'\n",
            " 'Iris-virginica' 'Iris-virginica' 'Iris-versicolor' 'Iris-virginica'\n",
            " 'Iris-versicolor' 'Iris-virginica' 'Iris-versicolor' 'Iris-setosa'\n",
            " 'Iris-virginica' 'Iris-versicolor' 'Iris-setosa' 'Iris-setosa'\n",
            " 'Iris-setosa' 'Iris-versicolor' 'Iris-virginica' 'Iris-setosa'\n",
            " 'Iris-setosa' 'Iris-setosa' 'Iris-versicolor' 'Iris-setosa'\n",
            " 'Iris-versicolor' 'Iris-virginica' 'Iris-setosa' 'Iris-versicolor'\n",
            " 'Iris-virginica' 'Iris-setosa' 'Iris-virginica' 'Iris-virginica'\n",
            " 'Iris-versicolor' 'Iris-versicolor' 'Iris-virginica' 'Iris-versicolor'\n",
            " 'Iris-setosa' 'Iris-versicolor' 'Iris-virginica' 'Iris-setosa'\n",
            " 'Iris-setosa' 'Iris-versicolor' 'Iris-versicolor' 'Iris-setosa'\n",
            " 'Iris-virginica' 'Iris-setosa' 'Iris-setosa' 'Iris-versicolor'\n",
            " 'Iris-versicolor' 'Iris-virginica' 'Iris-versicolor' 'Iris-virginica'\n",
            " 'Iris-virginica' 'Iris-versicolor' 'Iris-setosa' 'Iris-setosa'\n",
            " 'Iris-virginica' 'Iris-virginica' 'Iris-setosa' 'Iris-setosa'\n",
            " 'Iris-setosa' 'Iris-versicolor' 'Iris-virginica' 'Iris-setosa'\n",
            " 'Iris-virginica' 'Iris-virginica' 'Iris-setosa' 'Iris-versicolor'\n",
            " 'Iris-versicolor' 'Iris-virginica' 'Iris-versicolor' 'Iris-virginica'\n",
            " 'Iris-setosa' 'Iris-virginica' 'Iris-versicolor' 'Iris-virginica'\n",
            " 'Iris-versicolor' 'Iris-versicolor' 'Iris-versicolor' 'Iris-setosa'\n",
            " 'Iris-versicolor' 'Iris-versicolor' 'Iris-setosa' 'Iris-versicolor'\n",
            " 'Iris-virginica' 'Iris-virginica' 'Iris-setosa' 'Iris-versicolor'\n",
            " 'Iris-virginica' 'Iris-virginica' 'Iris-setosa' 'Iris-virginica'\n",
            " 'Iris-setosa' 'Iris-versicolor' 'Iris-virginica' 'Iris-virginica'\n",
            " 'Iris-versicolor' 'Iris-virginica' 'Iris-versicolor' 'Iris-versicolor'\n",
            " 'Iris-virginica' 'Iris-virginica' 'Iris-setosa' 'Iris-versicolor'\n",
            " 'Iris-virginica' 'Iris-setosa' 'Iris-versicolor' 'Iris-virginica']\n"
          ]
        }
      ]
    },
    {
      "cell_type": "code",
      "source": [
        "print(y_test)"
      ],
      "metadata": {
        "colab": {
          "base_uri": "https://localhost:8080/"
        },
        "id": "-1pBkaVRwJWa",
        "outputId": "d9f3a257-9914-4d73-ecd2-8d96079b1b52"
      },
      "execution_count": 19,
      "outputs": [
        {
          "output_type": "stream",
          "name": "stdout",
          "text": [
            "['Iris-versicolor' 'Iris-setosa' 'Iris-virginica' 'Iris-versicolor'\n",
            " 'Iris-versicolor' 'Iris-setosa' 'Iris-versicolor' 'Iris-virginica'\n",
            " 'Iris-versicolor' 'Iris-versicolor' 'Iris-virginica' 'Iris-setosa'\n",
            " 'Iris-setosa' 'Iris-setosa' 'Iris-setosa' 'Iris-versicolor'\n",
            " 'Iris-virginica' 'Iris-versicolor' 'Iris-versicolor' 'Iris-virginica'\n",
            " 'Iris-setosa' 'Iris-virginica' 'Iris-setosa' 'Iris-virginica'\n",
            " 'Iris-virginica' 'Iris-virginica' 'Iris-virginica' 'Iris-virginica'\n",
            " 'Iris-setosa' 'Iris-setosa' 'Iris-setosa' 'Iris-setosa' 'Iris-versicolor'\n",
            " 'Iris-setosa' 'Iris-setosa' 'Iris-virginica' 'Iris-versicolor'\n",
            " 'Iris-setosa']\n"
          ]
        }
      ]
    },
    {
      "cell_type": "code",
      "source": [
        "from sklearn.preprocessing import StandardScaler\n",
        "sc = StandardScaler()\n",
        "x_train = sc.fit_transform(x_train)\n",
        "x_test = sc.fit_transform(x_test)\n"
      ],
      "metadata": {
        "id": "MwkPl05swMJK"
      },
      "execution_count": 20,
      "outputs": []
    },
    {
      "cell_type": "code",
      "source": [
        "print(x_train)"
      ],
      "metadata": {
        "colab": {
          "base_uri": "https://localhost:8080/"
        },
        "id": "nKP-dp10wSfA",
        "outputId": "7e4e3d12-556d-4b4e-dbb1-4607d10f71fa"
      },
      "execution_count": 21,
      "outputs": [
        {
          "output_type": "stream",
          "name": "stdout",
          "text": [
            "[[-1.69110144 -1.01827123  1.30636523 -1.39489006 -1.35865217]\n",
            " [-1.03515906 -0.7730102   2.46390403 -1.33696359 -1.49272181]\n",
            " [ 1.54175742 -0.03722712 -0.77720463  0.74838929  0.92053173]\n",
            " [ 0.20644615  0.20803391  0.8433497   0.40083048  0.51832281]\n",
            " [ 0.22987266  1.06644751  0.14882642  0.51668341  0.38425317]\n",
            " [-1.40998328 -0.52774918  2.00088851 -1.45281653 -1.09051288]\n",
            " [-1.55054236 -0.52774918  1.53787299 -1.33696359 -1.35865217]\n",
            " [ 0.1127401  -0.40511866 -1.47172791 -0.06258127 -0.28609504]\n",
            " [ 1.3309188   0.57592545 -0.54569687  0.74838929  0.38425317]\n",
            " [ 1.42462485  0.69855596  0.14882642  0.98009517  0.78646209]\n",
            " [-0.02781898  0.94381699 -0.08268134  0.34290401  0.25018353]\n",
            " [ 0.76868247  1.67960008  1.30636523  1.32765398  1.72494958]\n",
            " [ 0.4641378  -0.15985763 -0.3141891   0.22705107  0.11611389]\n",
            " [ 0.67497642  2.17012213 -0.08268134  1.61728632  1.18867101]\n",
            " [-0.23865761 -0.28248815 -0.08268134  0.40083048  0.38425317]\n",
            " [-1.78480749 -0.89564072  1.07485746 -1.39489006 -1.35865217]\n",
            " [ 1.07322715  2.29275265 -0.54569687  1.67521279  1.05460137]\n",
            " [-0.21523109 -0.03722712 -0.77720463  0.1691246  -0.28609504]\n",
            " [-1.12886512 -0.7730102   0.8433497  -1.39489006 -1.35865217]\n",
            " [-0.84774696 -1.01827123  1.07485746 -1.45281653 -1.22458253]\n",
            " [-0.7540409  -0.89564072  1.76938075 -1.10525771 -1.09051288]\n",
            " [-0.37921669 -1.01827123 -2.39775896 -0.17843421 -0.28609504]\n",
            " [ 1.09665366  0.57592545 -0.77720463  0.63253635  0.78646209]\n",
            " [-1.22257117 -1.26353226  0.8433497  -1.10525771 -1.35865217]\n",
            " [-1.19914466 -1.01827123 -0.08268134 -1.27903712 -1.35865217]\n",
            " [-1.24599769 -0.89564072  0.61184194 -1.22111065 -0.95644324]\n",
            " [ 0.41728477 -0.28248815 -0.77720463  0.22705107  0.11611389]\n",
            " [-0.87117347 -0.89564072  0.8433497  -1.33696359 -1.35865217]\n",
            " [ 0.44071128 -0.15985763 -0.08268134  0.22705107 -0.01795576]\n",
            " [ 0.95609458  2.29275265  1.76938075  1.67521279  1.32274066]\n",
            " [-0.68376136 -1.50879329  0.38033418 -1.39489006 -1.35865217]\n",
            " [ 0.48756431  0.45329494 -0.3141891   0.28497754  0.11611389]\n",
            " [ 0.86238853 -0.15985763 -1.24022015  0.69046282  1.05460137]\n",
            " [-1.01173255 -0.40511866  2.69541179 -1.39489006 -1.35865217]\n",
            " [ 1.44805136  0.20803391 -0.08268134  0.57460988  0.78646209]\n",
            " [ 0.58127037 -0.03722712 -0.77720463  0.74838929  0.92053173]\n",
            " [-0.33236366  0.20803391 -1.93474343  0.11119813 -0.28609504]\n",
            " [ 0.18301964 -0.52774918 -0.08268134  0.40083048  0.38425317]\n",
            " [ 1.6823165   0.45329494  0.8433497   0.9221687   1.4568103 ]\n",
            " [-0.54320228 -0.40511866 -1.70323567  0.11119813  0.11611389]\n",
            " [-1.66767493 -0.52774918  2.00088851 -1.22111065 -1.09051288]\n",
            " [ 0.39385826 -1.01827123 -1.70323567 -0.29428715 -0.28609504]\n",
            " [ 0.8155355   0.69855596 -0.77720463  0.86424223  0.92053173]\n",
            " [-0.63690833 -1.01827123  0.61184194 -1.39489006 -1.35865217]\n",
            " [-0.96487952 -1.01827123  0.38033418 -1.510743   -1.35865217]\n",
            " [ 0.08931358 -0.40511866 -1.47172791 -0.00465481 -0.1520254 ]\n",
            " [ 0.01903404  1.06644751 -0.08268134  0.69046282  0.65239245]\n",
            " [-0.98830604 -1.14090175  0.14882642 -1.33696359 -1.49272181]\n",
            " [ 0.88581504 -0.03722712 -0.54569687  0.74838929  1.59087994]\n",
            " [-1.6208219  -1.01827123  0.8433497  -1.33696359 -1.35865217]\n",
            " [-0.77746742 -1.01827123  1.07485746 -1.27903712 -0.8223736 ]\n",
            " [-0.14495155  0.08540339  0.38033418  0.57460988  0.78646209]\n",
            " [ 0.51099082 -0.89564072 -1.24022015 -0.46806656 -0.1520254 ]\n",
            " [ 1.02637412  1.31170853  0.38033418  1.0959481   1.4568103 ]\n",
            " [ 0.15959312  0.20803391 -0.77720463  0.74838929  0.51832281]\n",
            " [ 1.35434531  0.33066442 -1.00871239  1.03802163  0.25018353]\n",
            " [ 1.37777182  2.29275265 -0.08268134  1.32765398  1.4568103 ]\n",
            " [ 0.3001522  -0.40511866 -1.24022015  0.11119813  0.11611389]\n",
            " [-1.59739539 -1.75405432 -0.3141891  -1.39489006 -1.35865217]\n",
            " [-1.48026282 -1.87668483 -0.08268134 -1.56866947 -1.49272181]\n",
            " [ 1.00294761  0.20803391 -1.93474343  0.69046282  0.38425317]\n",
            " [ 1.14350669  1.67960008  0.38033418  1.26972751  0.78646209]\n",
            " [-1.71452795 -1.50879329  0.14882642 -1.33696359 -1.35865217]\n",
            " [-1.38655677 -0.89564072  1.07485746 -1.39489006 -1.22458253]\n",
            " [-0.89459998 -1.75405432 -0.08268134 -1.45281653 -1.35865217]\n",
            " [-0.09809853  0.57592545 -1.24022015  0.63253635  0.38425317]\n",
            " [ 1.40119834  0.57592545  0.8433497   1.03802163  1.59087994]\n",
            " [-1.64424841 -1.50879329  0.8433497  -1.39489006 -1.22458253]\n",
            " [ 0.83896201  1.18907802 -0.08268134  0.98009517  1.18867101]\n",
            " [ 0.55784385  0.57592545  0.61184194  1.26972751  1.72494958]\n",
            " [-1.73795447 -1.38616278  0.38033418 -1.45281653 -1.35865217]\n",
            " [-0.30893715  0.33066442 -0.3141891   0.51668341  0.25018353]\n",
            " [-0.51977577  0.82118648 -0.54569687  0.45875695  0.38425317]\n",
            " [ 1.1669332   0.45329494 -0.54569687  0.57460988  0.78646209]\n",
            " [-0.61348182  1.43433905  0.38033418  0.51668341  0.25018353]\n",
            " [ 0.90924155  0.69855596  0.38033418  0.86424223  1.4568103 ]\n",
            " [-0.70718788 -0.89564072  1.76938075 -1.27903712 -1.35865217]\n",
            " [ 1.47147788  1.31170853  0.14882642  0.9221687   1.18867101]\n",
            " [-0.35579017  0.08540339 -0.08268134  0.22705107  0.38425317]\n",
            " [ 1.65888998  0.82118648 -0.08268134  0.80631576  1.05460137]\n",
            " [ 0.06588707 -0.15985763 -1.00871239 -0.17843421 -0.28609504]\n",
            " [-0.4026432  -0.7730102  -0.77720463  0.05327166  0.25018353]\n",
            " [ 0.34700523  0.33066442 -0.08268134  0.45875695  0.25018353]\n",
            " [-0.82432044 -1.6314238  -1.70323567 -1.45281653 -1.22458253]\n",
            " [-0.42606971  0.94381699 -0.3141891   0.45875695  0.11611389]\n",
            " [ 0.32357872 -0.40511866 -1.00871239  0.34290401 -0.01795576]\n",
            " [-0.66033485 -0.65037969  1.53787299 -1.33696359 -1.35865217]\n",
            " [ 0.27672569 -0.28248815 -0.08268134  0.1691246   0.11611389]\n",
            " [ 0.72182945  1.80223059 -0.3141891   1.44350692  0.78646209]\n",
            " [ 1.12008018  1.06644751  0.61184194  1.0959481   1.18867101]\n",
            " [-1.29285071 -0.89564072  1.53787299 -1.33696359 -1.09051288]\n",
            " [-0.44949623 -1.14090175 -1.47172791 -0.29428715 -0.28609504]\n",
            " [ 1.58861044  1.06644751  0.61184194  1.0959481   1.72494958]\n",
            " [ 1.23721274  1.67960008 -0.08268134  1.15387457  0.51832281]\n",
            " [-0.9180265  -1.14090175  0.14882642 -1.33696359 -1.49272181]\n",
            " [ 1.49490439  1.06644751  0.14882642  1.03802163  1.59087994]\n",
            " [-1.76138098 -1.14090175 -0.08268134 -1.39489006 -1.35865217]\n",
            " [-0.56662879  1.31170853  0.14882642  0.63253635  0.38425317]\n",
            " [ 1.26063926  1.9248611  -0.54569687  1.32765398  0.92053173]\n",
            " [ 0.62812339  0.57592545 -0.3141891   1.03802163  0.78646209]\n",
            " [ 0.53441734 -0.15985763 -0.54569687  0.1691246   0.11611389]\n",
            " [ 0.93266807  0.82118648 -0.08268134  0.98009517  0.78646209]\n",
            " [ 0.25329918  0.57592545 -1.70323567  0.34290401  0.11611389]\n",
            " [-0.0512455   0.69855596 -0.3141891   0.28497754  0.11611389]\n",
            " [ 1.04980063 -0.28248815 -0.54569687  0.63253635  1.05460137]\n",
            " [ 1.70574301  0.08540339 -0.08268134  0.74838929  0.78646209]\n",
            " [-1.31627723 -0.52774918  0.8433497  -1.22111065 -1.35865217]\n",
            " [-0.12152504  0.33066442 -0.54569687  0.11119813  0.11611389]\n",
            " [ 0.69840293 -1.14090175 -1.24022015  0.40083048  0.65239245]\n",
            " [-1.45683631 -0.03722712  2.23239627 -1.510743   -1.35865217]\n",
            " [ 0.37043174 -0.03722712 -1.00871239  0.11119813 -0.01795576]\n",
            " [ 0.60469688  1.55696956 -0.08268134  1.21180104  1.18867101]]\n"
          ]
        }
      ]
    },
    {
      "cell_type": "code",
      "source": [
        "print(x_test)"
      ],
      "metadata": {
        "colab": {
          "base_uri": "https://localhost:8080/"
        },
        "id": "wvTIUT86wVoc",
        "outputId": "4b295830-c3a3-41e9-dabf-36a45a1fff11"
      },
      "execution_count": 22,
      "outputs": [
        {
          "output_type": "stream",
          "name": "stdout",
          "text": [
            "[[ 0.07772639  0.25621067 -0.71903739  0.58987181  0.05585913]\n",
            " [-1.15294139 -0.21299441  1.61629772 -1.03834577 -1.06789518]\n",
            " [ 1.08463638  2.13303102 -1.18610441  1.78389803  1.42933663]\n",
            " [ 0.18960527  0.1389094  -0.48550388  0.48132397  0.43044391]\n",
            " [ 0.14485372  1.07731957 -0.71903739  0.64414573  0.30558231]\n",
            " [-0.86205628 -0.56489823  0.68216368 -1.14689361 -0.94303359]\n",
            " [-0.12365561 -0.33029569 -0.48550388 -0.00714131  0.18072072]\n",
            " [ 1.59927927  1.19462085 -0.01843686  0.80696748  1.42933663]\n",
            " [-0.0341525   0.37351194 -2.12023846  0.48132397  0.43044391]\n",
            " [ 0.27910838 -0.09569314 -0.9525709   0.15568045  0.05585913]\n",
            " [ 0.90563016  0.72541576  0.21509665  0.80696748  1.05475186]\n",
            " [-1.28719605 -1.26870586 -0.25197037 -1.20116753 -1.31761837]\n",
            " [-0.75017739 -0.44759696  0.91569719 -1.25544145 -1.19275678]\n",
            " [-1.35432339 -1.15140459 -0.01843686 -1.14689361 -1.31761837]\n",
            " [-1.13056561 -0.91680205  1.61629772 -1.14689361 -1.06789518]\n",
            " [-0.30266183  0.49081322  0.44863017  0.58987181  0.5553055 ]\n",
            " [ 0.77137549  0.72541576 -0.25197037  1.18688492  1.30447504]\n",
            " [-0.01177673 -0.33029569 -1.41963792  0.15568045 -0.06900246]\n",
            " [-0.32503761 -0.21299441 -0.71903739  0.48132397  0.18072072]\n",
            " [ 1.39789727  0.60811449 -0.71903739  1.07833708  1.30447504]\n",
            " [-0.90680783 -1.38600713  0.21509665 -1.09261969 -1.19275678]\n",
            " [ 1.28601838  0.25621067 -0.25197037  0.69841965  0.80502868]\n",
            " [-0.97393516 -1.03410332  0.68216368 -1.09261969 -0.94303359]\n",
            " [ 1.30839416  0.60811449 -0.71903739  1.07833708  1.17961345]\n",
            " [ 1.37552149  2.36763356  1.61629772  1.51252844  1.05475186]\n",
            " [ 1.68878238  0.9600183  -0.25197037  0.8612414   1.42933663]\n",
            " [ 0.8608786   0.9600183  -1.41963792  1.18688492  0.80502868]\n",
            " [ 1.64403082  1.07731957  0.21509665  1.24115884  1.42933663]\n",
            " [-0.54879539 -1.26870586 -0.25197037 -1.20116753 -1.06789518]\n",
            " [-0.88443205 -1.26870586 -0.01843686 -1.09261969 -1.19275678]\n",
            " [-1.06343828 -1.5033084   1.1492307  -1.41826321 -1.19275678]\n",
            " [-1.22006872 -0.21299441  3.01749879 -1.14689361 -0.94303359]\n",
            " [-0.10127984  0.9600183  -0.01843686  0.42705005  0.30558231]\n",
            " [-1.30957183 -1.26870586  0.68216368 -1.09261969 -1.19275678]\n",
            " [-0.61592272 -1.73791095  0.21509665 -1.25544145 -1.19275678]\n",
            " [ 1.71115816  0.49081322 -1.41963792  0.75269356  0.92989027]\n",
            " [-0.41454072  0.60811449  0.21509665  0.48132397  0.43044391]\n",
            " [-0.95155939 -0.79950077  0.91569719 -1.14689361 -1.19275678]]\n"
          ]
        }
      ]
    },
    {
      "cell_type": "code",
      "source": [
        "from sklearn.ensemble import RandomForestClassifier\n",
        "from sklearn.metrics import accuracy_score\n",
        "model = RandomForestClassifier(n_estimators = 100)\n",
        "model.fit(x_train,y_train)\n",
        "y_pred = model.predict(x_test)\n",
        "accuracy_score(y_test,y_pred)"
      ],
      "metadata": {
        "colab": {
          "base_uri": "https://localhost:8080/"
        },
        "id": "CoC17tbuwX7P",
        "outputId": "58fd97dd-92ed-4750-aee5-fa0c6ff13c89"
      },
      "execution_count": 23,
      "outputs": [
        {
          "output_type": "execute_result",
          "data": {
            "text/plain": [
              "1.0"
            ]
          },
          "metadata": {},
          "execution_count": 23
        }
      ]
    },
    {
      "cell_type": "code",
      "source": [
        "from sklearn.metrics import classification_report\n",
        "classification_report(y_test,y_pred)\n"
      ],
      "metadata": {
        "colab": {
          "base_uri": "https://localhost:8080/",
          "height": 70
        },
        "id": "GOwxTex7xF8l",
        "outputId": "89492695-b670-461c-c48f-6dd310fe4b1a"
      },
      "execution_count": 25,
      "outputs": [
        {
          "output_type": "execute_result",
          "data": {
            "text/plain": [
              "'                 precision    recall  f1-score   support\\n\\n    Iris-setosa       1.00      1.00      1.00        15\\nIris-versicolor       1.00      1.00      1.00        11\\n Iris-virginica       1.00      1.00      1.00        12\\n\\n       accuracy                           1.00        38\\n      macro avg       1.00      1.00      1.00        38\\n   weighted avg       1.00      1.00      1.00        38\\n'"
            ],
            "application/vnd.google.colaboratory.intrinsic+json": {
              "type": "string"
            }
          },
          "metadata": {},
          "execution_count": 25
        }
      ]
    },
    {
      "cell_type": "code",
      "source": [
        "from sklearn.metrics import confusion_matrix\n",
        "print(confusion_matrix(y_test,y_pred))"
      ],
      "metadata": {
        "colab": {
          "base_uri": "https://localhost:8080/"
        },
        "id": "gzaCT14gxYDj",
        "outputId": "812942cb-45e5-4075-e1c9-4f0d350973e3"
      },
      "execution_count": 26,
      "outputs": [
        {
          "output_type": "stream",
          "name": "stdout",
          "text": [
            "[[15  0  0]\n",
            " [ 0 11  0]\n",
            " [ 0  0 12]]\n"
          ]
        }
      ]
    },
    {
      "cell_type": "code",
      "source": [
        "import seaborn as sns\n",
        "mat = confusion_matrix(y_test,y_pred)\n",
        "plt.subplots(figsize = (5,5))\n",
        "sns.heatmap(mat.T, square = True, annot = True, fmt = 'd', cbar = False)\n",
        "plt.xlabel('true label')\n",
        "plt.ylabel('predicted label')"
      ],
      "metadata": {
        "colab": {
          "base_uri": "https://localhost:8080/",
          "height": 482
        },
        "id": "jY258Atpyjqi",
        "outputId": "ccac8055-df15-4382-db84-449a037ccbf0"
      },
      "execution_count": 27,
      "outputs": [
        {
          "output_type": "execute_result",
          "data": {
            "text/plain": [
              "Text(34.47222222222222, 0.5, 'predicted label')"
            ]
          },
          "metadata": {},
          "execution_count": 27
        },
        {
          "output_type": "display_data",
          "data": {
            "text/plain": [
              "<Figure size 500x500 with 1 Axes>"
            ],
            "image/png": "[encoded data removed]"
          },
          "metadata": {}
        }
      ]
    },
    {
      "cell_type": "code",
      "source": [
        "model.predict([[1,\t5.1,\t3.5,\t1.4,\t0.2\t]])"
      ],
      "metadata": {
        "colab": {
          "base_uri": "https://localhost:8080/"
        },
        "id": "b7O0EbH1ypw0",
        "outputId": "3a0e0248-744e-494e-ea1f-dfc5f403acd3"
      },
      "execution_count": 28,
      "outputs": [
        {
          "output_type": "execute_result",
          "data": {
            "text/plain": [
              "array(['Iris-virginica'], dtype=object)"
            ]
          },
          "metadata": {},
          "execution_count": 28
        }
      ]
    }
  ]
}